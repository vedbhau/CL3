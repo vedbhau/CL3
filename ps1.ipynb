{
 "cells": [
  {
   "cell_type": "code",
   "execution_count": null,
   "id": "ca9122cc",
   "metadata": {},
   "outputs": [],
   "source": [
    "import xmlrpc.client\n",
    "\n",
    "server = xmlrpc.client.ServerProxy(\"http://localhost:8000\")\n",
    "\n",
    "number = int(input(\"Enter an integer to compute factorial for: \"))\n",
    "\n",
    "result = server.compute_factorial(number)\n",
    "\n",
    "print(f\"The factorial of {number} is {result}\")"
   ]
  },
  {
   "cell_type": "code",
   "execution_count": null,
   "id": "127cfd6c",
   "metadata": {},
   "outputs": [
    {
     "name": "stdout",
     "output_type": "stream",
     "text": [
      "Server listening on port 8000\n"
     ]
    }
   ],
   "source": [
    "from xmlrpc.server import SimpleXMLRPCServer\n",
    "\n",
    "def compute_factorial(number):\n",
    "    \n",
    "    result = 1\n",
    "\n",
    "    if number > 1:\n",
    "        for i in range(1,number+1):\n",
    "            result *= i\n",
    "        return result\n",
    "    \n",
    "    return result\n",
    "\n",
    "server = SimpleXMLRPCServer((\"localhost\",8000))\n",
    "\n",
    "print(\"Server listening on port 8000\")\n",
    "\n",
    "server.register_function(compute_factorial, 'compute_factorial')\n",
    "server.serve_forever()\n"
   ]
  },
  {
   "cell_type": "markdown",
   "id": "ca0b4199",
   "metadata": {},
   "source": [
    ". RPC (Remote Procedure Call) is a way for programs on different computers to talk to each \n",
    "other over a network. It works like a regular function call but it happens between processes \n",
    "running on different machines. It helps distributed systems communicate by allowing one \n",
    "program to call a function on another program running on a different machine. \n",
    "\n",
    "2. In an RPC system, there are typically two main components: the client and the server. The \n",
    "client sends a request to the server, which executes the requested procedure and sends back \n",
    "the result to the client. \n",
    "\n",
    "3. Client-server interaction involves the client sending a request to the server, which then \n",
    "processes the request and sends a response back to the client. This interaction follows a \n",
    "specific protocol, such as HTTP or TCP/IP, to ensure communication between the client and \n",
    "server. \n",
    "\n",
    "4. Scalability and load balancing in distributed applications involve distributing incoming \n",
    "requests evenly across multiple servers to prevent any single server from becoming overloaded. \n",
    "Techniques like load balancers and clustering help manage increased traffic and maintain \n",
    "system performance. \n",
    "\n",
    "5. RPC offers simplicity and ease of use, but it may suffer from performance issues and tight \n",
    "coupling between client and server. Other protocols like REST or messaging systems offer more \n",
    "flexibility but might require more effort to set up and maintain. "
   ]
  },
  {
   "cell_type": "code",
   "execution_count": null,
   "id": "d2372fe6",
   "metadata": {},
   "outputs": [],
   "source": []
  }
 ],
 "metadata": {
  "kernelspec": {
   "display_name": "Python 3 (ipykernel)",
   "language": "python",
   "name": "python3"
  },
  "language_info": {
   "codemirror_mode": {
    "name": "ipython",
    "version": 3
   },
   "file_extension": ".py",
   "mimetype": "text/x-python",
   "name": "python",
   "nbconvert_exporter": "python",
   "pygments_lexer": "ipython3",
   "version": "3.9.13"
  },
  "varInspector": {
   "cols": {
    "lenName": 16,
    "lenType": 16,
    "lenVar": 40
   },
   "kernels_config": {
    "python": {
     "delete_cmd_postfix": "",
     "delete_cmd_prefix": "del ",
     "library": "var_list.py",
     "varRefreshCmd": "print(var_dic_list())"
    },
    "r": {
     "delete_cmd_postfix": ") ",
     "delete_cmd_prefix": "rm(",
     "library": "var_list.r",
     "varRefreshCmd": "cat(var_dic_list()) "
    }
   },
   "types_to_exclude": [
    "module",
    "function",
    "builtin_function_or_method",
    "instance",
    "_Feature"
   ],
   "window_display": false
  }
 },
 "nbformat": 4,
 "nbformat_minor": 5
}
